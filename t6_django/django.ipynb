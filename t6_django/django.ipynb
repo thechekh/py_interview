{
 "cells": [
  {
   "cell_type": "markdown",
   "metadata": {},
   "source": [
    "https://www.geeksforgeeks.org/django-interview-questions/\n",
    "\n",
    "https://www.turing.com/interview-questions/django\n",
    "\n",
    "https://www.tealhq.com/interview-questions/python-django-developer\n",
    "\n",
    "https://www.simplilearn.com/django-interview-questions-article\n",
    "\n",
    "https://www.interviewbit.com/django-interview-questions/\n",
    "\n",
    "https://aw.club/global/en/blog/django-interview-questions\n",
    "\n",
    "---\n",
    "\n",
    "\n"
   ]
  }
 ],
 "metadata": {
  "kernelspec": {
   "display_name": "3.10.15",
   "language": "python",
   "name": "python3"
  },
  "language_info": {
   "codemirror_mode": {
    "name": "ipython",
    "version": 3
   },
   "file_extension": ".py",
   "mimetype": "text/x-python",
   "name": "python",
   "nbconvert_exporter": "python",
   "pygments_lexer": "ipython3",
   "version": "3.10.15"
  }
 },
 "nbformat": 4,
 "nbformat_minor": 2
}
