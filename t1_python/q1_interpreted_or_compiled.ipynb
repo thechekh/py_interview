{
 "cells": [
  {
   "cell_type": "markdown",
   "metadata": {},
   "source": [
    "Python — мова, що інтерпретується чи компілюється?\n",
    "\n",
    "Is Python an interpreted or compiled language?\n",
    "\n",
    "---\n",
    "\n",
    "Python is generally considered an interpreted language, but it has characteristics of both interpreted and compiled languages. Here's a breakdown:\n",
    "\n",
    "Interpreted Nature:\n",
    "\n",
    "When you run a Python script, the Python interpreter processes the code.\n",
    "Python code is executed line-by-line during runtime, which is a hallmark of interpreted languages.\n",
    "Compiled Aspect:\n",
    "\n",
    "Before execution, Python code is compiled into bytecode, which is a lower-level, platform-independent representation of the source code.\n",
    "This bytecode is then executed by the Python Virtual Machine (PVM).\n",
    "\n",
    "Key Points:\n",
    "\n",
    "Compilation to Bytecode: This step is invisible to users but is why Python is sometimes said to be \"partially compiled.\"\n",
    "\n",
    "No Standalone Executable: Unlike fully compiled languages (e.g., C or C++), Python does not produce standalone machine code directly. Instead, it relies on the interpreter to execute the bytecode.\n",
    "\n",
    "So, while Python primarily functions as an interpreted language, its intermediate bytecode compilation adds a compiled element to its execution process.\n",
    "\n",
    "---\n",
    "\n",
    "Python зазвичай вважається інтерпретованою мовою, але він має характеристики як інтерпретованих, так і компільованих мов. Ось розбивка:\n",
    "\n",
    "Інтерпретована природа:\n",
    "\n",
    "Коли ви запускаєте сценарій Python, інтерпретатор Python обробляє код.\n",
    "Код Python виконується рядок за рядком під час виконання, що є відмінною рисою інтерпретованих мов.\n",
    "Складений аспект:\n",
    "\n",
    "Перед виконанням код Python компілюється в байт-код, який є нижчим рівнем, незалежним від платформи представленням вихідного коду.\n",
    "Потім цей байт-код виконується віртуальною машиною Python (PVM).\n",
    "\n",
    "Ключові моменти:\n",
    "\n",
    "Компіляція до байт-коду: цей крок невидимий для користувачів, але саме тому Python іноді називають «частково скомпільованим».\n",
    "\n",
    "Немає автономного виконуваного файлу: на відміну від повністю скомпільованих мов (наприклад, C або C++), Python не створює автономний машинний код безпосередньо. Замість цього він покладається на інтерпретатор для виконання байт-коду.\n",
    "\n",
    "Таким чином, хоча Python в основному функціонує як інтерпретована мова, його проміжна компіляція байт-коду додає скомпільований елемент до процесу його виконання.\n",
    "\n"
   ]
  }
 ],
 "metadata": {
  "kernelspec": {
   "display_name": "3.10.15",
   "language": "python",
   "name": "python3"
  },
  "language_info": {
   "codemirror_mode": {
    "name": "ipython",
    "version": 3
   },
   "file_extension": ".py",
   "mimetype": "text/x-python",
   "name": "python",
   "nbconvert_exporter": "python",
   "pygments_lexer": "ipython3",
   "version": "3.10.15"
  }
 },
 "nbformat": 4,
 "nbformat_minor": 2
}
