{
 "cells": [
  {
   "cell_type": "markdown",
   "metadata": {},
   "source": [
    "Які є змінні та незмінні типи даних?\n",
    "\n",
    "What are mutable and immutable data types?\n",
    "\n",
    "---\n",
    "\n",
    "\n",
    "In Python, data types are classified as mutable or immutable based on whether their value can be changed after they are created.\n",
    "\n",
    "Mutable Data Types\n",
    "\n",
    "Definition: These are data types whose values can be changed or modified after the object is created.\n",
    "\n",
    "Examples:\n",
    "\n",
    "list\n",
    "\n",
    "dict\n",
    "\n",
    "set\n",
    "\n",
    "bytearray\n",
    "\n",
    "Immutable Data Types\n",
    "\n",
    "Definition: These are data types whose values cannot be changed after the object is created. Any modification results in the creation of a new object.\n",
    "Examples:\n",
    "\n",
    "int\n",
    "\n",
    "float\n",
    "\n",
    "bool\n",
    "\n",
    "str\n",
    "\n",
    "tuple\n",
    "\n",
    "frozenset\n",
    "\n",
    "bytes\n",
    "\n",
    "Key Points to Remember:\n",
    "\n",
    "Efficiency: Immutable types are generally more memory-efficient and safer to use in multithreaded environments.\n",
    "\n",
    "Hashability:\n",
    "Immutable objects like str, tuple, and frozenset are hashable, meaning they can be used as keys in dictionaries or elements in sets.\n",
    "\n",
    "Mutable objects like list and dict are not hashable.\n",
    "\n",
    "Shared References:\n",
    "With mutable objects, changes to one reference affect all references to the object.\n",
    "Immutable objects ensure the value stays consistent across all references.\n",
    "Understanding these characteristics is important for working with Python data structures and designing efficient code.\n",
    "\n",
    "---\n",
    "\n",
    "У Python типи даних класифікуються як змінні або незмінні залежно від того, чи можна змінити їх значення після їх створення.\n",
    "\n",
    "Змінні типи даних\n",
    "\n",
    "Визначення: це типи даних, значення яких можна змінити або змінити після створення об’єкта.\n",
    "\n",
    "приклади:\n",
    "\n",
    "list\n",
    "\n",
    "dict\n",
    "\n",
    "set\n",
    "\n",
    "bytearray\n",
    "\n",
    "Визначення: це типи даних, значення яких не можна змінити після створення об’єкта. Будь-яка модифікація призводить до створення нового об’єкта.\n",
    "приклади:\n",
    "\n",
    "int\n",
    "\n",
    "float\n",
    "\n",
    "bool\n",
    "\n",
    "str\n",
    "\n",
    "tuple\n",
    "\n",
    "frozenset\n",
    "\n",
    "bytes\n",
    "\n",
    "Ключові моменти, про які слід пам’ятати:\n",
    "\n",
    "Ефективність: незмінні типи, як правило, більш ефективні для використання пам’яті та безпечніші для використання в багатопоточних середовищах.\n",
    "\n",
    "Хешування:\n",
    "Незмінні об’єкти, такі як str, tuple і frozenset, можна хешувати, тобто їх можна використовувати як ключі в словниках або елементи в наборах.\n",
    "\n",
    "Змінні об’єкти, такі як list і dict, не хешуються.\n",
    "\n",
    "Спільні посилання:\n",
    "У змінних об’єктах зміни до одного посилання впливають на всі посилання на об’єкт.\n",
    "Незмінні об’єкти забезпечують узгодженість значення в усіх посиланнях.\n",
    "Розуміння цих характеристик є важливим для роботи зі структурами даних Python і розробки ефективного коду."
   ]
  },
  {
   "cell_type": "code",
   "execution_count": 3,
   "metadata": {},
   "outputs": [
    {
     "name": "stdout",
     "output_type": "stream",
     "text": [
      "[10, 2, 3]\n",
      "Hello World\n"
     ]
    }
   ],
   "source": [
    "# Mutable example with list\n",
    "my_list = [1, 2, 3]\n",
    "my_list[0] = 10  # Modifying the first element\n",
    "print(my_list)  # Output: [10, 2, 3]\n",
    "# Immutable example with string\n",
    "my_string = \"Hello\"\n",
    "my_string = my_string + \" World\"  # Creates a new string object\n",
    "print(my_string)  # Output: \"Hello World\"\n",
    "\n",
    "# Immutable example with tuple\n",
    "my_tuple = (1, 2, 3)\n",
    "# my_tuple[0] = 10  # This would raise an error\n"
   ]
  },
  {
   "cell_type": "code",
   "execution_count": 4,
   "metadata": {},
   "outputs": [
    {
     "ename": "TypeError",
     "evalue": "'str' object does not support item assignment",
     "output_type": "error",
     "traceback": [
      "\u001b[0;31m---------------------------------------------------------------------------\u001b[0m",
      "\u001b[0;31mTypeError\u001b[0m                                 Traceback (most recent call last)",
      "Cell \u001b[0;32mIn[4], line 2\u001b[0m\n\u001b[1;32m      1\u001b[0m test_string\u001b[38;5;241m=\u001b[39m\u001b[38;5;124m\"\u001b[39m\u001b[38;5;124mabcde\u001b[39m\u001b[38;5;124m\"\u001b[39m\n\u001b[0;32m----> 2\u001b[0m \u001b[43mtest_string\u001b[49m\u001b[43m[\u001b[49m\u001b[38;5;241;43m3\u001b[39;49m\u001b[43m]\u001b[49m\u001b[38;5;241m=\u001b[39m\u001b[38;5;124m'\u001b[39m\u001b[38;5;124mx\u001b[39m\u001b[38;5;124m'\u001b[39m\n\u001b[1;32m      3\u001b[0m \u001b[38;5;28mprint\u001b[39m(test_string)\n",
      "\u001b[0;31mTypeError\u001b[0m: 'str' object does not support item assignment"
     ]
    }
   ],
   "source": [
    "test_string=\"abcde\"\n",
    "test_string[3]='x'\n",
    "print(test_string)"
   ]
  }
 ],
 "metadata": {
  "kernelspec": {
   "display_name": "3.10.15",
   "language": "python",
   "name": "python3"
  },
  "language_info": {
   "codemirror_mode": {
    "name": "ipython",
    "version": 3
   },
   "file_extension": ".py",
   "mimetype": "text/x-python",
   "name": "python",
   "nbconvert_exporter": "python",
   "pygments_lexer": "ipython3",
   "version": "3.10.15"
  }
 },
 "nbformat": 4,
 "nbformat_minor": 2
}
