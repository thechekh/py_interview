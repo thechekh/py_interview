{
 "cells": [
  {
   "cell_type": "markdown",
   "metadata": {},
   "source": [
    "Що таке область видимості змінних у Python?\n",
    "\n",
    "What is variable scope in Python?\n",
    "\n",
    "---\n",
    "# Variable Scope in Python\n",
    "\n",
    "**Variable scope** refers to the context in which a variable is accessible within a program. It determines where a variable can be defined, modified, or accessed.\n",
    "\n",
    "## 📌 Types of Variable Scope\n",
    "\n",
    "### **1. Local Scope**\n",
    "- A variable declared inside a function belongs to the **local scope** of that function.\n",
    "- It can only be accessed within the function where it is defined.\n",
    "\n",
    "### **2. Enclosing Scope**\n",
    "- This applies to variables in nested functions.\n",
    "- A variable in the **enclosing scope** of a nested function is accessible inside the nested function but not outside its enclosing function.\n",
    "\n",
    "### **3. Global Scope**\n",
    "- A variable defined outside of any function belongs to the **global scope** and is accessible anywhere in the program.\n",
    "- Use the `global` keyword to modify a global variable inside a function.\n",
    "\n",
    "### **4. Built-in Scope**\n",
    "- This is the scope of Python's built-in functions and keywords.\n",
    "- These are accessible anywhere in the code unless overridden.\n",
    "\n",
    "## LEGB Rule\n",
    "\n",
    "Python resolves variable names using the **LEGB Rule**, which stands for:\n",
    "\n",
    "1. **Local**: Variables defined within a function.  \n",
    "2. **Enclosing**: Variables in enclosing functions (for nested functions).  \n",
    "3. **Global**: Variables defined at the top level of a script or module.  \n",
    "4. **Built-in**: Names in Python’s built-in namespace (e.g., `len`, `print`).\n",
    "\n",
    "## 💡 Key Points to Remember\n",
    "\n",
    "- **Local variables** are temporary and exist only during the function's execution.\n",
    "- **Global variables** persist for the program's duration but should be used sparingly to avoid conflicts.\n",
    "- Use the `nonlocal` keyword to modify variables in the enclosing scope.\n",
    "\n",
    "---\n",
    "\n"
   ]
  },
  {
   "cell_type": "code",
   "execution_count": null,
   "metadata": {},
   "outputs": [],
   "source": [
    "def my_function():\n",
    "    local_var = 10  # Local scope\n",
    "    print(local_var)\n",
    "\n",
    "my_function()\n",
    "# print(local_var)  # This will raise an error (NameError)"
   ]
  },
  {
   "cell_type": "code",
   "execution_count": null,
   "metadata": {},
   "outputs": [],
   "source": [
    "def outer_function():\n",
    "    enclosing_var = \"Enclosing Scope\"\n",
    "\n",
    "    def inner_function():\n",
    "        print(enclosing_var)  # Accessible inside the inner function\n",
    "\n",
    "    inner_function()\n",
    "\n",
    "outer_function()"
   ]
  },
  {
   "cell_type": "code",
   "execution_count": null,
   "metadata": {},
   "outputs": [],
   "source": [
    "global_var = \"Global Scope\"\n",
    "\n",
    "def access_global():\n",
    "    print(global_var)  # Accessible globally\n",
    "\n",
    "def modify_global():\n",
    "    global global_var\n",
    "    global_var = \"Modified Global Scope\"\n",
    "\n",
    "access_global()\n",
    "modify_global()\n",
    "print(global_var)  # Output: \"Modified Global Scope\""
   ]
  },
  {
   "cell_type": "code",
   "execution_count": 1,
   "metadata": {},
   "outputs": [
    {
     "name": "stdout",
     "output_type": "stream",
     "text": [
      "6\n"
     ]
    }
   ],
   "source": [
    "print(len(\"Python\"))  # Built-in function len"
   ]
  },
  {
   "cell_type": "code",
   "execution_count": 2,
   "metadata": {},
   "outputs": [
    {
     "name": "stdout",
     "output_type": "stream",
     "text": [
      "modified outer\n",
      "modified outer\n"
     ]
    }
   ],
   "source": [
    "def outer_function():\n",
    "    x = \"outer\"\n",
    "\n",
    "    def inner_function():\n",
    "        nonlocal x\n",
    "        x = \"modified outer\"\n",
    "        print(x)\n",
    "\n",
    "    inner_function()\n",
    "    print(x)\n",
    "\n",
    "outer_function()\n"
   ]
  }
 ],
 "metadata": {
  "kernelspec": {
   "display_name": "3.10.15",
   "language": "python",
   "name": "python3"
  },
  "language_info": {
   "codemirror_mode": {
    "name": "ipython",
    "version": 3
   },
   "file_extension": ".py",
   "mimetype": "text/x-python",
   "name": "python",
   "nbconvert_exporter": "python",
   "pygments_lexer": "ipython3",
   "version": "3.10.15"
  }
 },
 "nbformat": 4,
 "nbformat_minor": 2
}
