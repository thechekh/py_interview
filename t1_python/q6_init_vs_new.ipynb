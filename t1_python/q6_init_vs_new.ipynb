{
 "cells": [
  {
   "cell_type": "markdown",
   "metadata": {},
   "source": [
    "Різниця між __init__() і __new__()?\n",
    "\n",
    "What is the difference between __init__() and __new__()?\n",
    "\n",
    "---\n",
    "\n",
    "# Difference Between `__init__()` and `__new__()` in Python\n",
    "\n",
    "In Python, both `__init__()` and `__new__()` are special methods related to object creation, but they serve different purposes in the object lifecycle.\n",
    "\n",
    "## `__new__()`:\n",
    "- **Purpose**: The `__new__()` method is responsible for **creating** a new instance of a class. It is called before `__init__()` and is used to actually create the object in memory.\n",
    "- **Usage**: This method is primarily used in metaclasses or when you need to customize object creation. In most cases, you don't need to override it unless you are dealing with special cases (e.g., singletons, immutable objects).\n",
    "- **Return Value**: `__new__()` must return the newly created object (an instance of the class).\n",
    "- **When It's Called**: `__new__()` is called before `__init__()` and can be thought of as creating the object, while `__init__()` is used to initialize it.\n",
    "\n",
    "## `__init__()`:\n",
    "- **Purpose**: The `__init__()` method is responsible for **initializing** the newly created object. It’s called immediately after `__new__()` and is used to set up the object's initial state.\n",
    "- **Usage**: This method is typically overridden in most classes to initialize attributes.\n",
    "- **Return Value**: `__init__()` does not return a value; it should always return `None`.\n",
    "- **When It's Called**: `__init__()` is called after `__new__()` has created the object and is used to initialize it.\n",
    "\n",
    "## Key Differences:\n",
    "\n",
    "| Aspect            | `__new__()`                               | `__init__()`                          |\n",
    "|-------------------|------------------------------------------|---------------------------------------|\n",
    "| **Purpose**        | Creates a new object                      | Initializes the newly created object  |\n",
    "| **Return Value**   | Returns the new object (instance)        | Returns `None`                        |\n",
    "| **When Called**    | Called before `__init__()`               | Called after `__new__()`              |\n",
    "| **Use Cases**      | Customizing object creation (e.g., singletons, immutable types) | Initializing object attributes       |\n",
    "\n",
    "## Example:\n",
    "\n",
    "```python\n",
    "class MyClass:\n",
    "    def __new__(cls, *args, **kwargs):\n",
    "        print(\"Creating a new instance\")\n",
    "        instance = super().__new__(cls)  # Create the instance\n",
    "        return instance\n",
    "\n",
    "    def __init__(self, name):\n",
    "        print(\"Initializing the instance\")\n",
    "        self.name = name\n",
    "\n",
    "# Create an instance\n",
    "obj = MyClass(\"John\")\n",
    "```\n",
    "\n",
    "**Output**:\n",
    "```\n",
    "Creating a new instance\n",
    "Initializing the instance\n",
    "```\n",
    "\n",
    "- `__new__()` is responsible for creating the instance, and `__init__()` initializes it.\n",
    "\n",
    "## When to Use Each:\n",
    "- Override `__new__()` when you need control over **object creation**, such as when implementing design patterns like the Singleton pattern.\n",
    "- Override `__init__()` when you need to initialize the attributes of an object after it has been created.\n",
    "\n",
    "In most cases, `__init__()` is the method you'll need to work with, and `__new__()` is used in more advanced or specialized use cases.\n",
    "\n",
    "\n",
    "\n",
    "---\n",
    "\n"
   ]
  },
  {
   "cell_type": "code",
   "execution_count": 1,
   "metadata": {},
   "outputs": [
    {
     "name": "stdout",
     "output_type": "stream",
     "text": [
      "Creating a new instance\n",
      "Initializing the instance\n"
     ]
    }
   ],
   "source": [
    "class MyClass:\n",
    "    def __new__(cls, *args, **kwargs):\n",
    "        print(\"Creating a new instance\")\n",
    "        instance = super().__new__(cls)  # Create the instance\n",
    "        return instance\n",
    "\n",
    "    def __init__(self, name):\n",
    "        print(\"Initializing the instance\")\n",
    "        self.name = name\n",
    "\n",
    "# Create an instance\n",
    "obj = MyClass(\"John\")\n"
   ]
  }
 ],
 "metadata": {
  "kernelspec": {
   "display_name": "3.10.15",
   "language": "python",
   "name": "python3"
  },
  "language_info": {
   "codemirror_mode": {
    "name": "ipython",
    "version": 3
   },
   "file_extension": ".py",
   "mimetype": "text/x-python",
   "name": "python",
   "nbconvert_exporter": "python",
   "pygments_lexer": "ipython3",
   "version": "3.10.15"
  }
 },
 "nbformat": 4,
 "nbformat_minor": 2
}
