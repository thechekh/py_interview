{
 "cells": [
  {
   "cell_type": "markdown",
   "metadata": {},
   "source": [
    "У чому різниця між staticmethod та classmethod?\n",
    "\n",
    "What is the difference between staticmethod and classmethod?\n",
    "\n",
    "---\n",
    "\n",
    "# Difference Between `staticmethod` and `classmethod` in Python\n",
    "\n",
    "In Python, both `staticmethod` and `classmethod` are used to define methods that are associated with a class rather than an instance of the class, but they have key differences in how they behave.\n",
    "\n",
    "## `staticmethod`:\n",
    "- **Definition**: A `staticmethod` is a method that does not take any reference to the instance or the class as its first argument. It behaves like a regular function, but it belongs to the class's namespace.\n",
    "- **Usage**: It is used when you want a method to be bound to the class, but it does not need access to class or instance-specific data.\n",
    "- **Access**: It cannot modify or access the class (`cls`) or instance (`self`) attributes.\n",
    "  \n",
    "### Example:\n",
    "```python\n",
    "class MyClass:\n",
    "    @staticmethod\n",
    "    def greet(name):\n",
    "        return f\"Hello, {name}!\"\n",
    "\n",
    "# Usage\n",
    "print(MyClass.greet(\"Alice\"))  # Output: Hello, Alice!\n",
    "```\n",
    "\n",
    "## `classmethod`:\n",
    "- **Definition**: A `classmethod` is a method that takes a class reference (`cls`) as its first argument. This allows the method to access or modify class-level attributes and methods, but not instance-level data.\n",
    "- **Usage**: It is used when you need access to the class itself, such as modifying class-level variables or calling other class methods.\n",
    "- **Access**: It can modify the class state, but not the instance state.\n",
    "\n",
    "### Example:\n",
    "```python\n",
    "class MyClass:\n",
    "    count = 0\n",
    "\n",
    "    def __init__(self):\n",
    "        MyClass.count += 1\n",
    "\n",
    "    @classmethod\n",
    "    def get_count(cls):\n",
    "        return cls.count\n",
    "\n",
    "# Usage\n",
    "obj1 = MyClass()\n",
    "obj2 = MyClass()\n",
    "print(MyClass.get_count())  # Output: 2\n",
    "```\n",
    "\n",
    "## Key Differences:\n",
    "- **First argument**: \n",
    "  - `staticmethod` does not take `self` or `cls` as the first argument.\n",
    "  - `classmethod` takes `cls` as the first argument (reference to the class).\n",
    "- **Purpose**: \n",
    "  - `staticmethod` is used for utility functions that don't need to access the class or instance.\n",
    "  - `classmethod` is used when the method needs to operate on or modify the class state.\n",
    "\n"
   ]
  },
  {
   "cell_type": "code",
   "execution_count": 1,
   "metadata": {},
   "outputs": [
    {
     "name": "stdout",
     "output_type": "stream",
     "text": [
      "Hello, Alice!\n"
     ]
    }
   ],
   "source": [
    "class MyClass:\n",
    "    @staticmethod\n",
    "    def greet(name):\n",
    "        return f\"Hello, {name}!\"\n",
    "\n",
    "# Usage\n",
    "print(MyClass.greet(\"Alice\"))  # Output: Hello, Alice!"
   ]
  },
  {
   "cell_type": "code",
   "execution_count": 4,
   "metadata": {},
   "outputs": [
    {
     "name": "stdout",
     "output_type": "stream",
     "text": [
      "2\n"
     ]
    }
   ],
   "source": [
    "class MyClass:\n",
    "    count = 0\n",
    "\n",
    "    def __init__(self):\n",
    "        MyClass.count += 1\n",
    "\n",
    "    @classmethod\n",
    "    def get_count(cls):\n",
    "        return cls.count\n",
    "\n",
    "# Usage\n",
    "obj1 = MyClass()\n",
    "obj2 = MyClass()\n",
    "print(MyClass.get_count())  # Output: 2"
   ]
  }
 ],
 "metadata": {
  "kernelspec": {
   "display_name": "3.10.15",
   "language": "python",
   "name": "python3"
  },
  "language_info": {
   "codemirror_mode": {
    "name": "ipython",
    "version": 3
   },
   "file_extension": ".py",
   "mimetype": "text/x-python",
   "name": "python",
   "nbconvert_exporter": "python",
   "pygments_lexer": "ipython3",
   "version": "3.10.15"
  }
 },
 "nbformat": 4,
 "nbformat_minor": 2
}
