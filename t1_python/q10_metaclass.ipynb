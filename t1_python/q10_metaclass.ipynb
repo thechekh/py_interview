{
 "cells": [
  {
   "cell_type": "markdown",
   "metadata": {},
   "source": [
    "Що таке метаклас, змінна циклу?\n",
    "\n",
    "What is a metaclass, a loop variable?\n",
    "\n",
    "---\n",
    "# Metaclass and Loop Variable in Python\n",
    "\n",
    "## 1. **Metaclass**\n",
    "- **Definition**: A metaclass is a class of a class that defines how a class behaves. In Python, classes themselves are instances of metaclasses, which control their creation and behavior.\n",
    "- **Purpose**: To customize or control class creation.\n",
    "- **Example**:\n",
    "  ```python\n",
    "  class Meta(type):\n",
    "      def __new__(cls, name, bases, dct):\n",
    "          print(f\"Creating class {name}\")\n",
    "          return super().__new__(cls, name, bases, dct)\n",
    "\n",
    "  class MyClass(metaclass=Meta):\n",
    "      pass\n",
    "\n",
    "  # Output: Creating class MyClass\n",
    "  ```\n",
    "\n",
    "---\n",
    "\n",
    "## 2. **Loop Variable**\n",
    "- **Definition**: A loop variable is a variable used as the iterator in a loop to hold the current value during each iteration.\n",
    "- **Purpose**: To process or manipulate each item in a collection (e.g., list, tuple, dictionary) or a range of values.\n",
    "- **Example**:\n",
    "  ```python\n",
    "  numbers = [1, 2, 3, 4, 5]\n",
    "  for num in numbers:  # Here, 'num' is the loop variable\n",
    "      print(num)\n",
    "\n",
    "  # Using a loop variable in a range:\n",
    "  for i in range(5):  # Here, 'i' is the loop variable\n",
    "      print(f\"Iteration {i}\")\n",
    "  ```\n",
    "\n",
    "\n",
    "\n",
    "\n",
    "\n"
   ]
  },
  {
   "cell_type": "code",
   "execution_count": 1,
   "metadata": {},
   "outputs": [
    {
     "name": "stdout",
     "output_type": "stream",
     "text": [
      "Creating class MyClass\n",
      "1\n",
      "2\n",
      "3\n",
      "4\n",
      "5\n",
      "Iteration 0\n",
      "Iteration 1\n",
      "Iteration 2\n",
      "Iteration 3\n",
      "Iteration 4\n"
     ]
    }
   ],
   "source": [
    "class Meta(type):\n",
    "    def __new__(cls, name, bases, dct):\n",
    "        print(f\"Creating class {name}\")\n",
    "        return super().__new__(cls, name, bases, dct)\n",
    "\n",
    "class MyClass(metaclass=Meta):\n",
    "    pass\n",
    "\n",
    "  # Output: Creating class MyClass\n",
    "\n",
    "numbers = [1, 2, 3, 4, 5]\n",
    "for num in numbers:  # Here, 'num' is the loop variable\n",
    "    print(num)\n",
    "\n",
    "  # Using a loop variable in a range:\n",
    "for i in range(5):  # Here, 'i' is the loop variable\n",
    "    print(f\"Iteration {i}\")"
   ]
  },
  {
   "cell_type": "code",
   "execution_count": null,
   "metadata": {},
   "outputs": [],
   "source": []
  }
 ],
 "metadata": {
  "kernelspec": {
   "display_name": "3.10.15",
   "language": "python",
   "name": "python3"
  },
  "language_info": {
   "codemirror_mode": {
    "name": "ipython",
    "version": 3
   },
   "file_extension": ".py",
   "mimetype": "text/x-python",
   "name": "python",
   "nbconvert_exporter": "python",
   "pygments_lexer": "ipython3",
   "version": "3.10.15"
  }
 },
 "nbformat": 4,
 "nbformat_minor": 2
}
