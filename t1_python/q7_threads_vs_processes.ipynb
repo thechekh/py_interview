{
 "cells": [
  {
   "cell_type": "markdown",
   "metadata": {},
   "source": [
    "У чому різниця між потоками та процесами?\n",
    "\n",
    "What is the difference between threads and processes?\n",
    "\n",
    "---\n",
    "\n",
    "# Difference Between Threads and Processes\n",
    "\n",
    "The difference between **threads** and **processes** in computing is related to how tasks are executed and managed within a program. Here's a detailed explanation of both:\n",
    "\n",
    "## **1. Processes:**\n",
    "A **process** is an independent program that runs in its own memory space. Each process has its own allocated resources, such as memory, file handles, and other system resources.\n",
    "\n",
    "### Key Characteristics of Processes:\n",
    "- **Memory Isolation**: Each process runs in its own memory space and does not share memory with other processes. This makes processes more isolated and less prone to affecting each other.\n",
    "- **Resource Allocation**: Processes are allocated their own resources (CPU, memory, I/O), which can make them more resource-intensive compared to threads.\n",
    "- **Independent Execution**: Processes are independent and do not share any state with each other. If one process crashes, it doesn't affect other processes.\n",
    "- **Communication**: Processes need Inter-Process Communication (IPC) mechanisms such as pipes, shared memory, or message passing to communicate with each other.\n",
    "- **Concurrency**: Multiple processes can be run concurrently by the operating system, either on multiple cores or via time-sharing on a single core.\n",
    "\n",
    "### Example:\n",
    "```python\n",
    "import os\n",
    "\n",
    "def child_process():\n",
    "    print(f\"Child Process: {os.getpid()}\")\n",
    "\n",
    "def parent_process():\n",
    "    print(f\"Parent Process: {os.getpid()}\")\n",
    "\n",
    "if __name__ == \"__main__\":\n",
    "    print(\"Main Process\")\n",
    "    pid = os.fork()  # Create a child process\n",
    "    if pid == 0:\n",
    "        child_process()  # Child process code\n",
    "    else:\n",
    "        parent_process()  # Parent process code\n",
    "```\n",
    "\n",
    "---\n",
    "\n",
    "## **2. Threads:**\n",
    "A **thread** is a smaller unit of execution within a process. Threads share the same memory space and resources of the parent process but can run independently.\n",
    "\n",
    "### Key Characteristics of Threads:\n",
    "- **Shared Memory**: Threads within the same process share the same memory space, meaning they can read and write to the same variables. This makes threads lightweight compared to processes, but also introduces risks like race conditions.\n",
    "- **Resource Sharing**: Since threads share resources like memory, file handles, and other data, they are less resource-intensive than processes.\n",
    "- **Communication**: Threads can communicate easily with each other since they share the same memory space, but they also need synchronization mechanisms (e.g., locks) to prevent conflicts and race conditions.\n",
    "- **Concurrency**: Threads within the same process can run concurrently, but because they share memory, care must be taken to ensure that their operations do not interfere with each other.\n",
    "- **Lightweight**: Threads are generally more lightweight compared to processes, making them suitable for tasks that require high concurrency with minimal overhead.\n",
    "\n",
    "### Example:\n",
    "```python\n",
    "import threading\n",
    "\n",
    "def print_thread():\n",
    "    print(f\"Thread ID: {threading.get_ident()}\")\n",
    "\n",
    "if __name__ == \"__main__\":\n",
    "    thread1 = threading.Thread(target=print_thread)\n",
    "    thread2 = threading.Thread(target=print_thread)\n",
    "    thread1.start()\n",
    "    thread2.start()\n",
    "    thread1.join()\n",
    "    thread2.join()\n",
    "```\n",
    "\n",
    "---\n",
    "\n",
    "## **Key Differences Between Threads and Processes:**\n",
    "\n",
    "| Aspect               | **Processes**                                           | **Threads**                                           |\n",
    "|----------------------|---------------------------------------------------------|------------------------------------------------------|\n",
    "| **Memory**           | Each process has its own separate memory space.          | Threads share the same memory space within a process. |\n",
    "| **Resource Usage**   | Processes are more resource-intensive (each has its own memory, CPU resources, etc.). | Threads are lightweight and share resources.        |\n",
    "| **Independence**     | Processes are independent and don't share any state.     | Threads share the same memory space, so they can affect each other. |\n",
    "| **Communication**    | Communication between processes requires Inter-Process Communication (IPC). | Threads can communicate easily by sharing memory. |\n",
    "| **Performance**      | Processes are more expensive to create and manage.      | Threads are faster to create and require fewer resources. |\n",
    "| **Crash Behavior**   | If a process crashes, it does not affect other processes. | If a thread crashes, it can potentially bring down the entire process. |\n",
    "| **Use Cases**        | Processes are useful for tasks that require full isolation or are resource-intensive. | Threads are ideal for tasks that require concurrency and share resources. |\n",
    "\n",
    "---\n",
    "\n",
    "## **Summary:**\n",
    "- **Processes** are independent units of execution with their own memory and resources. They are more isolated but can be heavier on resources and slower to create.\n",
    "- **Threads** are lightweight units of execution within a process. They share the same memory and resources, which allows for easier communication but requires careful synchronization to avoid issues like race conditions.\n",
    "\n",
    "\n",
    "\n",
    "---\n",
    "\n"
   ]
  },
  {
   "cell_type": "code",
   "execution_count": 1,
   "metadata": {},
   "outputs": [
    {
     "name": "stdout",
     "output_type": "stream",
     "text": [
      "Main Process\n",
      "Parent Process: 54588\n",
      "Main Process\n",
      "Child Process: 54659\n"
     ]
    }
   ],
   "source": [
    "import os\n",
    "\n",
    "def child_process():\n",
    "    print(f\"Child Process: {os.getpid()}\")\n",
    "\n",
    "def parent_process():\n",
    "    print(f\"Parent Process: {os.getpid()}\")\n",
    "\n",
    "if __name__ == \"__main__\":\n",
    "    print(\"Main Process\")\n",
    "    pid = os.fork()  # Create a child process\n",
    "    if pid == 0:\n",
    "        child_process()  # Child process code\n",
    "    else:\n",
    "        parent_process()  # Parent process code\n"
   ]
  },
  {
   "cell_type": "code",
   "execution_count": 2,
   "metadata": {},
   "outputs": [
    {
     "name": "stdout",
     "output_type": "stream",
     "text": [
      "Thread ID: 128376213866176\n",
      "Thread ID: 128376213866176\n"
     ]
    }
   ],
   "source": [
    "import threading\n",
    "\n",
    "def print_thread():\n",
    "    print(f\"Thread ID: {threading.get_ident()}\")\n",
    "\n",
    "if __name__ == \"__main__\":\n",
    "    thread1 = threading.Thread(target=print_thread)\n",
    "    thread2 = threading.Thread(target=print_thread)\n",
    "    thread1.start()\n",
    "    thread2.start()\n",
    "    thread1.join()\n",
    "    thread2.join()\n"
   ]
  }
 ],
 "metadata": {
  "kernelspec": {
   "display_name": "3.10.15",
   "language": "python",
   "name": "python3"
  },
  "language_info": {
   "codemirror_mode": {
    "name": "ipython",
    "version": 3
   },
   "file_extension": ".py",
   "mimetype": "text/x-python",
   "name": "python",
   "nbconvert_exporter": "python",
   "pygments_lexer": "ipython3",
   "version": "3.10.15"
  }
 },
 "nbformat": 4,
 "nbformat_minor": 2
}
